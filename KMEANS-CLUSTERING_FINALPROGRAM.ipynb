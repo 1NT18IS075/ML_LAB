{
 "cells": [
  {
   "cell_type": "code",
   "execution_count": 4,
   "metadata": {},
   "outputs": [
    {
     "name": "stdout",
     "output_type": "stream",
     "text": [
      "     x     y\n",
      "0  5.9  3.20\n",
      "1  4.6  2.90\n",
      "2  6.2  2.80\n",
      "3  4.7  3.20\n",
      "4  5.5  4.20\n",
      "5  5.0  3.00\n",
      "6  4.9  3.10\n",
      "7  6.7  3.10\n",
      "8  5.1  3.81\n",
      "9  6.0  3.00\n",
      "[[5.9  3.2 ]\n",
      " [4.6  2.9 ]\n",
      " [6.2  2.8 ]\n",
      " [4.7  3.2 ]\n",
      " [5.5  4.2 ]\n",
      " [5.   3.  ]\n",
      " [4.9  3.1 ]\n",
      " [6.7  3.1 ]\n",
      " [5.1  3.81]\n",
      " [6.   3.  ]]\n",
      "Initial Centroids\n",
      "(3, 2)\n",
      "[[0. 0.]\n",
      " [0. 0.]\n",
      " [0. 0.]]\n",
      "[0. 0. 0. 0. 0. 0. 0. 0. 0. 0.]\n",
      "12.537144692236463\n",
      " Centre of the clusters after  1  Iteration \n",
      " [[5.1714287 3.172857 ]\n",
      " [5.5       4.2      ]\n",
      " [6.45      2.95     ]]\n",
      "[0. 0. 2. 0. 1. 0. 0. 2. 0. 0.]\n",
      "Error  ...  1.5886142\n",
      " Centre of the clusters after  2  Iteration \n",
      " [[4.8   3.05 ]\n",
      " [5.3   4.005]\n",
      " [6.2   3.025]]\n",
      "[2. 0. 2. 0. 1. 0. 0. 2. 1. 2.]\n",
      "Error  ...  0.5469943\n",
      " Centre of the clusters after  3  Iteration \n",
      " [[4.8   3.05 ]\n",
      " [5.3   4.005]\n",
      " [6.2   3.025]]\n",
      "[2. 0. 2. 0. 1. 0. 0. 2. 1. 2.]\n",
      "Error  ...  0.0\n"
     ]
    },
    {
     "data": {
      "image/png": "[encoded data removed]",
      "text/plain": [
       "<Figure size 432x288 with 1 Axes>"
      ]
     },
     "metadata": {
      "needs_background": "light"
     },
     "output_type": "display_data"
    }
   ],
   "source": [
    "import numpy as np\n",
    "import pandas as pd\n",
    "import matplotlib.pyplot as mtp\n",
    "from copy import deepcopy\n",
    "from sklearn.cluster import KMeans\n",
    "\n",
    "\n",
    "def euclidean(a,b, ax=1):\n",
    "    return np.linalg.norm(a-b, axis=ax)\n",
    "\n",
    "k = 3\n",
    "X = pd.read_csv('data.csv',index_col=False)\n",
    "print(X)\n",
    "x1 = X['x'].values\n",
    "x2 = X['y'].values\n",
    "X = np.array(list(zip(x1, x2)))\n",
    "print(X)\n",
    "C_x = [6.2, 6.6 ,6.5]\n",
    "C_y = [3.2, 3.7, 3.0]\n",
    "Centroid = np.array(list(zip(C_x, C_y)), dtype=np.float32)\n",
    "print(\"Initial Centroids\")\n",
    "print(Centroid.shape)\n",
    "Centroid_old = np.zeros(Centroid.shape)\n",
    "print(Centroid_old)\n",
    "clusters = np.zeros(len(X))\n",
    "print(clusters)\n",
    "error = euclidean(Centroid, Centroid_old, None)\n",
    "print(error)\n",
    "iterr = 0\n",
    "# Loop will run till the error becomes zero\n",
    "while error != 0:\n",
    "    # Assigning each value to its closest cluster\n",
    "    iterr = iterr + 1\n",
    "    for i in range(len(X)):\n",
    "        #print(X[i])\n",
    "        distances = euclidean(X[i], Centroid)\n",
    "        #print(distances)\n",
    "        cluster = np.argmin(distances)\n",
    "        clusters[i] = cluster\n",
    "\n",
    "    Centroid_old = deepcopy(Centroid)\n",
    "        \n",
    "    # Finding the new centroids by taking the Mean\n",
    "    for p in range(k):\n",
    "        points = [X[j] for j in range(len(X)) if clusters[j] == p]\n",
    "        Centroid[p] = np.mean(points, axis=0)\n",
    "    print(\" Centre of the clusters after \", iterr,\" Iteration \\n\", Centroid)\n",
    "    error = euclidean(Centroid, Centroid_old, None)\n",
    "    labels = KMeans(3, random_state=0).fit_predict(X)\n",
    "    mtp.scatter(X[:, 0], X[:, 1], c=labels,s=50, cmap='viridis');\n",
    "    print(clusters)\n",
    "    print(\"Error  ... \",error)  "
   ]
  },
  {
   "cell_type": "code",
   "execution_count": null,
   "metadata": {},
   "outputs": [],
   "source": []
  }
 ],
 "metadata": {
  "kernelspec": {
   "display_name": "Python 3",
   "language": "python",
   "name": "python3"
  },
  "language_info": {
   "codemirror_mode": {
    "name": "ipython",
    "version": 3
   },
   "file_extension": ".py",
   "mimetype": "text/x-python",
   "name": "python",
   "nbconvert_exporter": "python",
   "pygments_lexer": "ipython3",
   "version": "3.8.5"
  }
 },
 "nbformat": 4,
 "nbformat_minor": 4
}
