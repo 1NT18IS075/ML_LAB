{
 "cells": [
  {
   "cell_type": "code",
   "execution_count": 1,
   "metadata": {},
   "outputs": [
    {
     "name": "stdout",
     "output_type": "stream",
     "text": [
      "[0.0, 9.000016363666115e-05, 4.818190578528324e-05, 0.0018163669388489797, 0.0005145463900843456, 1.6363666115756574e-05, 5.181827603322915e-05, 2.000003636370248e-05, 8.09092380167964e-05, 0.1818176033047333, 5.090918347124268e-05, 9.090925619864763e-07, 0.009280016872757951, 0.006348193360351564, 9.818199669453944e-05, 7.000012727295867e-05, 1.0, 7.27274049589181e-06]\n"
     ]
    }
   ],
   "source": [
    "arr=[1,100,54,1999,567,19,58,23,90,200000,57,2,10209,6984,109,78,1099999,9]\n",
    "maxi=max(arr)\n",
    "mini=min(arr)\n",
    "x=[]\n",
    "for ele in arr:\n",
    "    x.append((ele-mini)/(maxi-mini))\n",
    "print(x)"
   ]
  },
  {
   "cell_type": "code",
   "execution_count": 2,
   "metadata": {},
   "outputs": [
    {
     "name": "stdout",
     "output_type": "stream",
     "text": [
      "[[1.         0.        ]\n",
      " [0.04166667 0.49494949]\n",
      " [0.47916667 0.04040404]\n",
      " [0.875      0.6969697 ]\n",
      " [0.         1.        ]]\n"
     ]
    }
   ],
   "source": [
    "from numpy import asarray\n",
    "from sklearn.preprocessing import MinMaxScaler\n",
    "data=asarray([[100,0.001],[8,0.05],[50,0.005],[88,0.07],[4,0.1]])\n",
    "Scaler=MinMaxScaler()\n",
    "Scaled=Scaler.fit_transform(data)\n",
    "print(Scaled)"
   ]
  },
  {
   "cell_type": "code",
   "execution_count": 3,
   "metadata": {},
   "outputs": [
    {
     "name": "stdout",
     "output_type": "stream",
     "text": [
      "1.0\n",
      "0.0\n",
      "0.07999079990799908\n",
      "0.0004900049000490005\n",
      "0.4999949999499996\n",
      "4.0000400004000046e-05\n",
      "0.8799987999879999\n",
      "0.0006900069000690007\n",
      "0.039990399903999045\n",
      "0.000990009900099001\n"
     ]
    }
   ],
   "source": [
    "a=[[100,0.001],[8,0.05],[50,0.005],[88,0.07],[4,0.1]]\n",
    "mymax = max([max(p) for p in a])\n",
    "mymin = min([min(r) for r in a])\n",
    "\n",
    "for i in range(len(a)):\n",
    "    for j in range(len(a[i])):\n",
    "        print((a[i][j]-mymin)/(mymax-mymin))"
   ]
  },
  {
   "cell_type": "code",
   "execution_count": 4,
   "metadata": {},
   "outputs": [
    {
     "name": "stdout",
     "output_type": "stream",
     "text": [
      "[-1.5093552110597268, -1.1542128084574381, -0.44392800325286086, -0.08878560065057217, 0.2663568019517165, 0.6214992045540052, 0.9766416071562939, 1.3317840097585825]\n"
     ]
    }
   ],
   "source": [
    "import statistics as st\n",
    "arr=[-4,-3,-1,0,1,2,3,4]\n",
    "m=st.mean(arr)\n",
    "std=st.stdev(arr)\n",
    "x=[]\n",
    "for ele in arr:\n",
    "    x.append((ele-m)/std)\n",
    "print(x)"
   ]
  },
  {
   "cell_type": "code",
   "execution_count": 5,
   "metadata": {},
   "outputs": [
    {
     "name": "stdout",
     "output_type": "stream",
     "text": [
      "[[ 1.26398112 -1.16389967]\n",
      " [-1.06174414  0.12639634]\n",
      " [ 0.         -1.05856939]\n",
      " [ 0.96062565  0.65304778]\n",
      " [-1.16286263  1.44302493]]\n"
     ]
    }
   ],
   "source": [
    "from numpy import asarray\n",
    "from sklearn.preprocessing import StandardScaler\n",
    "data=asarray([[100,0.001],[8,0.05],[50,0.005],[88,0.07],[4,0.1]])\n",
    "Scaler=StandardScaler()\n",
    "Scaled=Scaler.fit_transform(data)\n",
    "print(Scaled)\n"
   ]
  },
  {
   "cell_type": "code",
   "execution_count": null,
   "metadata": {},
   "outputs": [],
   "source": []
  }
 ],
 "metadata": {
  "kernelspec": {
   "display_name": "Python 3",
   "language": "python",
   "name": "python3"
  },
  "language_info": {
   "codemirror_mode": {
    "name": "ipython",
    "version": 3
   },
   "file_extension": ".py",
   "mimetype": "text/x-python",
   "name": "python",
   "nbconvert_exporter": "python",
   "pygments_lexer": "ipython3",
   "version": "3.8.5"
  }
 },
 "nbformat": 4,
 "nbformat_minor": 4
}
